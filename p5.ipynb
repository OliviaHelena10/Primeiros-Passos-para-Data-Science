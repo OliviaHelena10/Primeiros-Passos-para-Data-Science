{
 "cells": [
  {
   "cell_type": "markdown",
   "metadata": {},
   "source": [
    "# Tratando Excessões\n",
    "\n",
    "### modelo do Try Except:\n",
    "except <nome_da_excecao as e>:\n"
   ]
  },
  {
   "cell_type": "code",
   "execution_count": null,
   "metadata": {},
   "outputs": [
    {
     "ename": "",
     "evalue": "",
     "output_type": "error",
     "traceback": [
      "\u001b[1;31mFailed to start the Kernel. \n",
      "\u001b[1;31mUnable to start Kernel 'Python 3.12.2' due to a timeout waiting for the ports to get used. \n",
      "\u001b[1;31mView Jupyter <a href='command:jupyter.viewOutput'>log</a> for further details."
     ]
    }
   ],
   "source": [
    "notas = {'João': [8.0, 9.0, 10.0], 'Maria': [9.0, 7.0, 6.0], 'José': [3.4, 7.0, 8.0],\n",
    "         'Cláudia': [5.5, 6.6, 8.0], 'Ana': [6.0, 10.0, 9.5], 'Joaquim': [5.5, 7.5, 9.0], \n",
    "         'Júlia': [6.0, 8.0, 7.0], 'Pedro': [3.0, 4.0, 6.0]}\n",
    "\n",
    "nome = input(\"Digite o nome do(a) estudante: \")\n",
    "resultado = notas[nome]\n",
    "resultado"
   ]
  },
  {
   "cell_type": "code",
   "execution_count": 10,
   "metadata": {},
   "outputs": [
    {
     "name": "stdout",
     "output_type": "stream",
     "text": [
      "<class 'type'> Erro: 'Helena' não está em nossos dados\n"
     ]
    }
   ],
   "source": [
    "try:\n",
    "    nome = input(\"Digite o nome do(a) estudante: \")\n",
    "    resultado = notas[nome]\n",
    "    print( resultado )\n",
    "    \n",
    "except Exception as e:\n",
    "    print( type, f'Erro: {e} não está em nossos dados' )"
   ]
  },
  {
   "cell_type": "code",
   "execution_count": 9,
   "metadata": {},
   "outputs": [
    {
     "name": "stdout",
     "output_type": "stream",
     "text": [
      "Estudante não matriculado na turma\n"
     ]
    }
   ],
   "source": [
    "try:\n",
    "    nome = input(\"Digite o nome do(a) estudante: \")\n",
    "    resultado = notas[nome]\n",
    "    print( resultado )\n",
    "    \n",
    "except KeyError:\n",
    "    print( 'Estudante não matriculado na turma' )"
   ]
  },
  {
   "cell_type": "code",
   "execution_count": 13,
   "metadata": {},
   "outputs": [
    {
     "name": "stdout",
     "output_type": "stream",
     "text": [
      "[5.5, 7.5, 9.0]\n"
     ]
    }
   ],
   "source": [
    "try:\n",
    "    nome = input(\"Digite o nome do(a) estudante: \")\n",
    "    resultado = notas[nome]\n",
    "    \n",
    "except KeyError:\n",
    "    print( 'Estudante não matriculado na turma' )\n",
    "\n",
    "else:\n",
    "    print(resultado)"
   ]
  },
  {
   "cell_type": "code",
   "execution_count": 12,
   "metadata": {},
   "outputs": [
    {
     "name": "stdout",
     "output_type": "stream",
     "text": [
      "[6.0, 10.0, 9.5]\n",
      "A consulta foi encerrada!\n"
     ]
    }
   ],
   "source": [
    "try:\n",
    "    nome = input(\"Digite o nome do(a) estudante: \")\n",
    "    resultado = notas[nome]\n",
    "except KeyError:\n",
    "    print(\"Estudante não matriculado(a) na turma\")\n",
    "else:\n",
    "    print(resultado)\n",
    "finally:\n",
    "    print(\"A consulta foi encerrada!\")"
   ]
  },
  {
   "cell_type": "code",
   "execution_count": 2,
   "metadata": {},
   "outputs": [],
   "source": [
    "def media(lista: list=[0]) -> float:\n",
    "\n",
    "    calculo = sum(lista) / len(lista)\n",
    "\n",
    "    if len(lista) > 4:\n",
    "        raise ValueError(\"A lista não pode possuir mais de 4 notas.\")\n",
    "    \n",
    "    return calculo"
   ]
  },
  {
   "cell_type": "code",
   "execution_count": 6,
   "metadata": {},
   "outputs": [
    {
     "name": "stdout",
     "output_type": "stream",
     "text": [
      "Não foi possível calcular a média do(a) estudante. Só são aceitos valores numéricos!\n",
      "A consulta foi encerrada!\n"
     ]
    }
   ],
   "source": [
    "try:\n",
    "    notas = [ 5, 4 , '10']\n",
    "    resultado = media(notas)\n",
    "except TypeError:\n",
    "    print(\"Não foi possível calcular a média do(a) estudante. Só são aceitos valores numéricos!\")\n",
    "except ValueError as e:\n",
    "    print(e)\n",
    "else:\n",
    "    print(resultado)\n",
    "finally:\n",
    "    print(\"A consulta foi encerrada!\")"
   ]
  },
  {
   "cell_type": "markdown",
   "metadata": {},
   "source": [
    "# Exercícios:"
   ]
  },
  {
   "cell_type": "code",
   "execution_count": 32,
   "metadata": {},
   "outputs": [
    {
     "name": "stdout",
     "output_type": "stream",
     "text": [
      "<class 'TypeError'> Erro: could not convert string to float: 'abc'\n",
      "Programa encerrado!\n"
     ]
    }
   ],
   "source": [
    "# 1. Faça um programa que solicite à pessoa usuária digitar dois números float e calcular a divisão \n",
    "# entre esses números. O código deve conter um tratamento de erro, indicando o tipo de erro que foi \n",
    "# gerado caso a divisão não seja possível de realizar.\n",
    "# Teste o programa com o segundo valor numérico do input igual a 0. Também teste utilizando caracteres\n",
    "# textuais no input para checar os tipos de erro que ocorrem.\n",
    "\n",
    "def divisao():\n",
    "    \n",
    "    num1 = float(input( 'Digite o dividendo: ' ))\n",
    "    num2 = float(input( 'Digite o divisor: ' ))\n",
    "    \n",
    "    print( num1 / num2 )\n",
    "\n",
    "try:\n",
    "    divisao()\n",
    "    \n",
    "except Exception as e:\n",
    "    print( TypeError, f'Erro: {e}' )\n",
    "    \n",
    "finally:\n",
    "    print( 'Programa encerrado!' )"
   ]
  },
  {
   "cell_type": "code",
   "execution_count": 35,
   "metadata": {},
   "outputs": [
    {
     "name": "stdout",
     "output_type": "stream",
     "text": [
      "O nome olivia não está na lista\n"
     ]
    }
   ],
   "source": [
    "# 2. Faça um programa que solicite à pessoa usuária digitar um texto que será uma chave \n",
    "# a ser pesquisada no seguinte dicionário: idades = {'Júlia': 16, 'Carol': 23, 'Alberto': 19, \n",
    "# 'Roberta': 17}, armazenando o resultado do valor em uma variável. O código deve conter um \n",
    "# tratamento de erro KeyError, imprimindo a informação 'Nome não encontrado', caso ocorra o erro; \n",
    "# e imprimir o valor caso não ocorra nenhum.\n",
    "# Teste o programa com um nome presente em uma das chaves do dicionário e com um que não esteja no\n",
    "# dicionário para verificar a mensagem de erro.\n",
    "\n",
    "idades = {'Júlia': 16, 'Carol': 23, 'Alberto': 19, 'Roberta': 17}\n",
    "\n",
    "try:\n",
    "    chave = input( 'Digite uma chave: ')\n",
    "    dicionario = idades[chave]\n",
    "\n",
    "except KeyError:\n",
    "    print( f'O nome {chave} não está na lista' )\n",
    "\n",
    "else:\n",
    "    print( dicionario )\n",
    "\n",
    "finally:\n",
    "    print( 'Consulta encerrada!' )\n"
   ]
  },
  {
   "cell_type": "code",
   "execution_count": 109,
   "metadata": {},
   "outputs": [],
   "source": [
    "# 3. Crie uma função que recebe uma lista como parâmetro e converta todos os valores da lista para float. \n",
    "# A função deve conter um tratamento de erro indicando o tipo de erro gerado e retornar a lista caso não \n",
    "# tenha ocorrido nenhum erro. Por fim, deve ter a cláusula finally para imprimir o texto: 'Fim da execução da função'.\n",
    "\n",
    "def lista(valores):\n",
    "    try:\n",
    "        nova_lista = [float(item) for item in valores]\n",
    "    \n",
    "    except Exception as e:\n",
    "        print( type(e), f'Erro: {e}')\n",
    "    \n",
    "    else:\n",
    "        return nova_lista\n",
    "    \n",
    "    finally:\n",
    "        print( 'Fim da execução da função' )\n",
    "\n",
    "valores_lista = [ 1, 2, 6, 9]"
   ]
  }
 ],
 "metadata": {
  "kernelspec": {
   "display_name": "Python 3",
   "language": "python",
   "name": "python3"
  },
  "language_info": {
   "codemirror_mode": {
    "name": "ipython",
    "version": 3
   },
   "file_extension": ".py",
   "mimetype": "text/x-python",
   "name": "python",
   "nbconvert_exporter": "python",
   "pygments_lexer": "ipython3",
   "version": "3.12.2"
  }
 },
 "nbformat": 4,
 "nbformat_minor": 2
}
