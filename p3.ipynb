{
 "cells": [
  {
   "cell_type": "markdown",
   "metadata": {},
   "source": [
    "# Built-in functions"
   ]
  },
  {
   "cell_type": "markdown",
   "metadata": {},
   "source": [
    "### Situação 1: \n",
    "A escola em que estamos construindo o nosso case de dados compartilhou os dados das notas de um estudante para que pudéssemos calcular a média deste em até uma casa decimal. Os dados recebidos correspondem a um dicionário com as chaves indicando o trimestre em questão e os valores das notas de cada trimestre do estudante em uma dada matéria."
   ]
  },
  {
   "cell_type": "code",
   "execution_count": null,
   "metadata": {},
   "outputs": [
    {
     "ename": "",
     "evalue": "",
     "output_type": "error",
     "traceback": [
      "\u001b[1;31mFailed to start the Kernel. \n",
      "\u001b[1;31mUnable to start Kernel 'Python 3.12.2' due to a timeout waiting for the ports to get used. \n",
      "\u001b[1;31mView Jupyter <a href='command:jupyter.viewOutput'>log</a> for further details."
     ]
    }
   ],
   "source": [
    "# Notas do(a) estudante\n",
    "notas = {'19 Trimestre': 8.5, '2° Trimestre': 9.5, '3º trimestre': 7}\n",
    "notas\n",
    "\n",
    "\"\"\"\n",
    "soma_notas = 0\n",
    "for nota in notas.values():\n",
    "    soma_notas += nota\n",
    "    #print('Nota trimestral:', nota)  # testar se notas estão corretas\n",
    "\n",
    "# print('Soma das notas:', soma_notas) # testar se soma das notas está correta\n",
    "media = soma_notas // (len( notas ))\n",
    "media\n",
    "\"\"\"\n",
    "\n",
    "# Usando a função sum\n",
    "somatorio = sum( notas.values() )\n",
    "media = somatorio / len( notas )\n",
    "media = round( media, 1 ) # no round passamos dois parametros o valor e o numero de casas decimais\n",
    "media\n",
    "#print(round( media, 4 )) # + exemplo do round\n",
    "#print(round( media, 3 ))"
   ]
  },
  {
   "cell_type": "markdown",
   "metadata": {},
   "source": [
    "## Type Hint\n",
    "\n",
    "O Type Hint é uma sintaxe utilizada no Python para indicar o tipo de dado esperado de um parâmetro ou retorno de função, auxiliando na legibilidade e manutenção do código. Podemos dizer, em poucas palavras, que ela é a dica de tipagem dos dados.\n",
    "\n",
    "Formato:\n",
    "\n",
    "def <nome>(<param>: <tipo_param>) -> <tipo_retorno>:\n",
    "  <instruções>\n",
    "  return resultado"
   ]
  },
  {
   "cell_type": "code",
   "execution_count": null,
   "metadata": {},
   "outputs": [
    {
     "ename": "",
     "evalue": "",
     "output_type": "error",
     "traceback": [
      "\u001b[1;31mFailed to start the Kernel. \n",
      "\u001b[1;31mUnable to start Kernel 'Python 3.12.2' due to a timeout waiting for the ports to get used. \n",
      "\u001b[1;31mView Jupyter <a href='command:jupyter.viewOutput'>log</a> for further details."
     ]
    }
   ],
   "source": [
    "# a nossa função recebe uma lista do tipo list e retorna uma variável do tipo float\n",
    "def media(lista: list) -> float:\n",
    "  calculo = sum(lista) / len(lista)\n",
    "  return calculo\n",
    "\n",
    "media([ 4.5 , 8, 6 ])"
   ]
  },
  {
   "cell_type": "markdown",
   "metadata": {},
   "source": [
    "## Default value\n",
    "\n",
    "No Python, o Default Value é um valor padrão atribuído a um argumento de função que é utilizado caso nenhum valor seja passado pelo usuário.\n",
    "\n",
    "Formato:\n",
    "\n",
    "<nome_variavel>: <tipo_variavel> = <valor_variavel>\n"
   ]
  },
  {
   "cell_type": "code",
   "execution_count": null,
   "metadata": {},
   "outputs": [
    {
     "ename": "",
     "evalue": "",
     "output_type": "error",
     "traceback": [
      "\u001b[1;31mFailed to start the Kernel. \n",
      "\u001b[1;31mUnable to start Kernel 'Python 3.12.2' due to a timeout waiting for the ports to get used. \n",
      "\u001b[1;31mView Jupyter <a href='command:jupyter.viewOutput'>log</a> for further details."
     ]
    }
   ],
   "source": [
    "# a nossa função recebe uma lista do tipo list e retorna uma variável do tipo float\n",
    "# caso não recebe nenhum valor de parâmetro será passada uma lista com um único\n",
    "# elemento sendo ele zero\n",
    "def media(lista: list=[0]) -> float:\n",
    "  calculo = sum(lista) / len(lista)\n",
    "  return calculo\n",
    "\n",
    "media()"
   ]
  },
  {
   "cell_type": "markdown",
   "metadata": {},
   "source": [
    "## Docstring\n",
    "Por fim, temos o Docstring que é uma string literal usada para documentar módulo, função, classe ou método em Python. Ela é colocada como o primeiro item de definição e pode ser acessada usando a função help().\n",
    "\n",
    "O Docstring deve descrever propósito, parâmetros, tipo de retorno e exceções levantadas pela função. É uma boa prática de programação utilizar Docstrings em seu código para facilitar a leitura, manutenção e compartilhamento do código com outras pessoas desenvolvedoras.\n",
    "\n",
    "Formato:\n",
    "\n",
    "def <nome>(<param_1>, <param_2>, ..., <param_n>):\n",
    "    ''' Texto documentando sua função...\n",
    "    '''\n",
    "  <instruções>\n",
    "  return resultado"
   ]
  },
  {
   "cell_type": "code",
   "execution_count": null,
   "metadata": {},
   "outputs": [
    {
     "ename": "",
     "evalue": "",
     "output_type": "error",
     "traceback": [
      "\u001b[1;31mFailed to start the Kernel. \n",
      "\u001b[1;31mUnable to start Kernel 'Python 3.12.2' due to a timeout waiting for the ports to get used. \n",
      "\u001b[1;31mView Jupyter <a href='command:jupyter.viewOutput'>log</a> for further details."
     ]
    }
   ],
   "source": [
    "def media(lista: list=[0]) -> float:\n",
    "  ''' Função para calcular a média de notas passadas por uma lista\n",
    "\n",
    "  lista: list, default [0]\n",
    "    Lista com as notas para calcular a média\n",
    "  return = calculo: float\n",
    "    Média calculada\n",
    "  '''\n",
    "  calculo = sum(lista) / len(lista)\n",
    "  return calculo\n",
    "\n",
    "media([ 4.5, 10, 7 ])"
   ]
  },
  {
   "cell_type": "markdown",
   "metadata": {},
   "source": [
    "Existe, ainda, outro método de utilização da função lambda, que possui muito mais potencial e é bastante usado por cientistas de dados: atrelar a função lambda ao map.\n",
    "\n",
    "O map é uma _BUILT-IN FUNCTIONS que mapeia valores. Quando usado junto à lambda, conseguimos realizar funções simples e rápidas que nos permitem alterar valores de variáveis, listas e até dicionários.\n",
    "\n",
    "O formato padrão é o seguinte:\n",
    "\n",
    "map(<lambda function>, <iterador>)\n"
   ]
  },
  {
   "cell_type": "markdown",
   "metadata": {},
   "source": [
    "## A função Lambda"
   ]
  },
  {
   "cell_type": "code",
   "execution_count": null,
   "metadata": {},
   "outputs": [
    {
     "ename": "",
     "evalue": "",
     "output_type": "error",
     "traceback": [
      "\u001b[1;31mFailed to start the Kernel. \n",
      "\u001b[1;31mUnable to start Kernel 'Python 3.12.2' due to a timeout waiting for the ports to get used. \n",
      "\u001b[1;31mView Jupyter <a href='command:jupyter.viewOutput'>log</a> for further details."
     ]
    }
   ],
   "source": [
    "# Recebendo as notas e calculando a média ponderável\n",
    "N1 = float(input(\"Digite a 1ª nota do(a) estudante: \"))\n",
    "N2 = float(input(\"Digite a 2ª nota do(a) estudante: \"))\n",
    "N3 = float(input(\"Digite a 3ª nota do(a) estudante: \"))\n",
    "\n",
    "media_ponderavel = lambda x, y, z: (x * 3 + y * 2 + z * 5)/10\n",
    "media_estudante = media_ponderavel(N1, N2, N3)\n",
    "media_estudante"
   ]
  },
  {
   "cell_type": "markdown",
   "metadata": {},
   "source": [
    "Existe, ainda, outro método de utilização da função lambda, que possui muito mais potencial e é bastante usado por cientistas de dados: atrelar a função lambda ao map.\n",
    "\n",
    "O map é uma _BUILT-IN FUNCTIONS que mapeia valores. Quando usado junto à lambda, conseguimos realizar funções simples e rápidas que nos permitem alterar valores de variáveis, listas e até dicionários.\n",
    "\n",
    "O formato padrão é o seguinte:\n",
    "\n",
    "map (<'lambda function>, <'iterador>)\n"
   ]
  },
  {
   "cell_type": "code",
   "execution_count": null,
   "metadata": {},
   "outputs": [
    {
     "ename": "",
     "evalue": "",
     "output_type": "error",
     "traceback": [
      "\u001b[1;31mFailed to start the Kernel. \n",
      "\u001b[1;31mUnable to start Kernel 'Python 3.12.2' due to a timeout waiting for the ports to get used. \n",
      "\u001b[1;31mView Jupyter <a href='command:jupyter.viewOutput'>log</a> for further details."
     ]
    }
   ],
   "source": [
    "\"\"\"\n",
    "Situação 5: Recebemos mais uma demanda, desta vez, para criar uma pequena função que\n",
    "pudesse adicionar qualitativo (pontuação extra) às notas do trimestre dos estudantes \n",
    "da turma que ganhou a gincana de programação promovida pela escola. Cada estudante \n",
    "receberá o qualitativo de 0.5 acrescido à média. Os dados recebidos correspondem a uma \n",
    "lista contendo as notas de alguns estudantes e uma variável com o qualitativo recebido.\n",
    "\"\"\"\n",
    "\n",
    "# Notas do(a) estudante\n",
    "notas = [6.0, 7.0, 9.0, 5.5, 8.0]\n",
    "qualitativo = 0.5\n",
    "\n",
    "notas_atualizadas = lambda x: x + qualitativo\n",
    "#notas_atualizadas(notas)\n",
    "\n",
    "# Não conseguimos aplicar o lambda em lista direto, é necessário utilizarmos junto\n",
    "# a ela a função map\n",
    "notas_atualizadas = map(lambda x: x + qualitativo, notas)\n",
    "notas_atualizadas\n",
    "\n",
    "#Ao executar, temos o seguinte retorno: <map at 0x7f57f633b5d0>\n",
    "\n",
    "# Sendo assim, chamamos a variável notas_atualizadas e nela passamos a função list\n",
    "# com notas_atualizadas como um iterável:\n",
    "\n",
    "notas_atualizadas = list(notas_atualizadas)\n",
    "notas_atualizadas\n"
   ]
  },
  {
   "cell_type": "code",
   "execution_count": null,
   "metadata": {},
   "outputs": [
    {
     "ename": "",
     "evalue": "",
     "output_type": "error",
     "traceback": [
      "\u001b[1;31mFailed to start the Kernel. \n",
      "\u001b[1;31mUnable to start Kernel 'Python 3.12.2' due to a timeout waiting for the ports to get used. \n",
      "\u001b[1;31mView Jupyter <a href='command:jupyter.viewOutput'>log</a> for further details."
     ]
    }
   ],
   "source": [
    "lista = [16, 14, 63, 65, 17, 99, 70, 11, 20, 48, 79, 32, 17, 89, 12, 25, 66]\n",
    "\n",
    "print( f'A lista em {len(lista)} itens, seu maior valor é {max(lista)}, \\n\\\n",
    "seu menor valor é {min(lista)} e a soma de todos os itens da lista é {sum(lista)}')\n"
   ]
  },
  {
   "cell_type": "code",
   "execution_count": null,
   "metadata": {},
   "outputs": [
    {
     "ename": "",
     "evalue": "",
     "output_type": "error",
     "traceback": [
      "\u001b[1;31mFailed to start the Kernel. \n",
      "\u001b[1;31mUnable to start Kernel 'Python 3.12.2' due to a timeout waiting for the ports to get used. \n",
      "\u001b[1;31mView Jupyter <a href='command:jupyter.viewOutput'>log</a> for further details."
     ]
    }
   ],
   "source": [
    "lista_notas = []\n",
    "contador = 0\n",
    "\n",
    "# loop para inserir notas e guardá-las na lista\n",
    "while contador < 5:\n",
    "    contador += 1\n",
    "    nota = float(input( 'Nota do jurado: '))\n",
    "    lista_notas.append(nota)\n",
    "\n",
    "# definir a média\n",
    "def media( lista ):\n",
    "    lista.remove(max( lista ))\n",
    "    lista.remove(max( lista ))\n",
    "    return sum( lista ) / len( lista )\n",
    "\n",
    "\n",
    "media = media(lista_notas) # cuidado!! aqui devemos passar o parâmetro lista\n",
    "print(f\"Nota do skatista: {round(media, 1)}\") \n",
    "\n"
   ]
  },
  {
   "cell_type": "code",
   "execution_count": null,
   "metadata": {},
   "outputs": [
    {
     "ename": "",
     "evalue": "",
     "output_type": "error",
     "traceback": [
      "\u001b[1;31mFailed to start the Kernel. \n",
      "\u001b[1;31mUnable to start Kernel 'Python 3.12.2' due to a timeout waiting for the ports to get used. \n",
      "\u001b[1;31mView Jupyter <a href='command:jupyter.viewOutput'>log</a> for further details."
     ]
    }
   ],
   "source": [
    "def resultado():\n",
    "    lista_notas = []\n",
    "    contador = 1\n",
    "    \n",
    "    # loop para inserir as notas e salvá-las na lista\n",
    "    for i in range( 0, 4):\n",
    "        nota = float(input( f'Digite sua {contador}º sua nota: '))\n",
    "        lista_notas.append( nota )\n",
    "        contador += 1\n",
    "\n",
    "    media = sum( lista_notas ) / len( lista_notas )\n",
    "\n",
    "    # condição de aprovação\n",
    "    if media >= 6:\n",
    "        situacao = 'aprovado'\n",
    "    else:\n",
    "        situacao = 'reprovado'\n",
    "\n",
    "    # resultado em si ( caso eu não queira apenas mostrar o valor tenho q usar o return )\n",
    "    print( f\"O(a) estudante obteve uma média de {round( media, 2 )}, \\\n",
    "com a sua maior nota de {max( lista_notas )} pontos e a menor nota de {min( lista_notas )} \\\n",
    "pontos e foi {situacao}\")\n",
    "\n",
    "resultado()\n"
   ]
  },
  {
   "cell_type": "code",
   "execution_count": null,
   "metadata": {},
   "outputs": [
    {
     "ename": "",
     "evalue": "",
     "output_type": "error",
     "traceback": [
      "\u001b[1;31mFailed to start the Kernel. \n",
      "\u001b[1;31mUnable to start Kernel 'Python 3.12.2' due to a timeout waiting for the ports to get used. \n",
      "\u001b[1;31mView Jupyter <a href='command:jupyter.viewOutput'>log</a> for further details."
     ]
    }
   ],
   "source": []
  }
 ],
 "metadata": {
  "kernelspec": {
   "display_name": "Python 3",
   "language": "python",
   "name": "python3"
  },
  "language_info": {
   "codemirror_mode": {
    "name": "ipython",
    "version": 3
   },
   "file_extension": ".py",
   "mimetype": "text/x-python",
   "name": "python",
   "nbconvert_exporter": "python",
   "pygments_lexer": "ipython3",
   "version": "3.12.2"
  }
 },
 "nbformat": 4,
 "nbformat_minor": 2
}
