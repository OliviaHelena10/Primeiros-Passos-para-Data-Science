{
 "cells": [
  {
   "cell_type": "code",
   "execution_count": 2,
   "metadata": {},
   "outputs": [],
   "source": [
    "import matplotlib.pyplot as plt"
   ]
  },
  {
   "cell_type": "code",
   "execution_count": 3,
   "metadata": {},
   "outputs": [],
   "source": [
    "estudantes = [ 'Olívia', 'Joseane', 'Nara', 'Pedro']\n",
    "notas = [ 8.5, 9, 10, 7.2]"
   ]
  },
  {
   "cell_type": "code",
   "execution_count": 4,
   "metadata": {},
   "outputs": [
    {
     "data": {
      "text/plain": [
       "<BarContainer object of 4 artists>"
      ]
     },
     "execution_count": 4,
     "metadata": {},
     "output_type": "execute_result"
    },
    {
     "data": {
      "image/png": "[encoded data removed]",
      "text/plain": [
       "<Figure size 640x480 with 1 Axes>"
      ]
     },
     "metadata": {},
     "output_type": "display_data"
    }
   ],
   "source": [
    "plt.bar( x = estudantes, height = notas )"
   ]
  },
  {
   "cell_type": "code",
   "execution_count": 7,
   "metadata": {},
   "outputs": [],
   "source": [
    "from random import choice"
   ]
  },
  {
   "cell_type": "code",
   "execution_count": 8,
   "metadata": {},
   "outputs": [
    {
     "name": "stdout",
     "output_type": "stream",
     "text": [
      "Help on method choice in module random:\n",
      "\n",
      "choice(seq) method of random.Random instance\n",
      "    Choose a random element from a non-empty sequence.\n",
      "\n"
     ]
    }
   ],
   "source": [
    "help(choice)"
   ]
  },
  {
   "cell_type": "code",
   "execution_count": 13,
   "metadata": {},
   "outputs": [
    {
     "data": {
      "text/plain": [
       "'Nara'"
      ]
     },
     "execution_count": 13,
     "metadata": {},
     "output_type": "execute_result"
    }
   ],
   "source": [
    "estudante = choice(estudantes)\n",
    "estudante"
   ]
  },
  {
   "cell_type": "markdown",
   "metadata": {},
   "source": [
    "## **Modelo de Importação de Biblioteca**\n",
    "\n",
    "from  *biblioteca*  import  *método1*,  *método2*"
   ]
  },
  {
   "cell_type": "code",
   "execution_count": 18,
   "metadata": {},
   "outputs": [
    {
     "data": {
      "text/plain": [
       "[36, 44, 28, 78, 85]"
      ]
     },
     "execution_count": 18,
     "metadata": {},
     "output_type": "execute_result"
    }
   ],
   "source": [
    "from random import randrange, sample\n",
    "\n",
    "lista = []\n",
    "\n",
    "for i in range(0, 20):\n",
    "  lista.append(randrange(100))\n",
    "\n",
    "sample( lista, 5 ) # se colocarmos mais q 20 haverá um erro por causa do for\n"
   ]
  },
  {
   "cell_type": "markdown",
   "metadata": {},
   "source": [
    "### from nome_biblioteca import *\n",
    "\n",
    "\n",
    "Esta forma é utilizada para importar todos os métodos de uma dada biblioteca. A diferença desta para o import nome_biblioteca é que, neste caso, não precisamos usar o nome da biblioteca para chamar um método. Podemos passar apenas o nome dele. Por exemplo, se formos calcular a raiz quadrada de certo número poderíamos seguir por uma das duas formas:\n",
    "\n",
    "\n",
    "\n",
    "### import math \n",
    "\n",
    "n = int(input(\"Digite um número positivo para calcular sua raiz quadrada:\"))\n",
    "print(f\"\\nA raiz quadrada de {n} é igual a {math.sqrt(n)}\")\n",
    "\n",
    "### from math import * \n",
    "\n",
    "n = int(input(\"Digite um número positivo para calcular sua raiz quadrada:\"))\n",
    "print(f\"\\nA raiz quadrada de {n} é igual a {sqrt(n)}\")\n",
    "\n",
    "\n",
    "\n",
    "\n"
   ]
  },
  {
   "cell_type": "markdown",
   "metadata": {},
   "source": [
    "\n",
    "\n",
    "\n",
    "\n",
    "# EXERCÍCIOS:"
   ]
  },
  {
   "cell_type": "code",
   "execution_count": 19,
   "metadata": {},
   "outputs": [],
   "source": [
    "import numpy as np"
   ]
  },
  {
   "cell_type": "code",
   "execution_count": 21,
   "metadata": {},
   "outputs": [
    {
     "data": {
      "text/plain": [
       "43"
      ]
     },
     "execution_count": 21,
     "metadata": {},
     "output_type": "execute_result"
    }
   ],
   "source": [
    "lista = [8, 12, 54, 23, 43, 1, 90, 87, 105, 77]\n",
    "lista_nova = choice(lista)\n",
    "lista_nova"
   ]
  },
  {
   "cell_type": "code",
   "execution_count": 57,
   "metadata": {},
   "outputs": [
    {
     "data": {
      "text/plain": [
       "[9, 74, 0, 66, 90]"
      ]
     },
     "execution_count": 57,
     "metadata": {},
     "output_type": "execute_result"
    }
   ],
   "source": [
    "# Crie um programa que sorteia, aleatoriamente, um número inteiro menor que 100.\n",
    "nums = []\n",
    "\n",
    "for i in range( 0, 10000 ): # podemos colocar um valor grande apenas para teste\n",
    "    nums.append(randrange( 0, 100 ) )\n",
    "    \n",
    "# testar o código:\n",
    "\"\"\"\n",
    "if 100 in nums:\n",
    "    print( 'O número 100 não poderia aparecer aqui!!! ')\n",
    "else:\n",
    "    print( 'Tudo certo!' )\n",
    "\"\"\"\n",
    "\n",
    "sample ( nums, 5 ) # aqui tbm podemos colocar um número grande para teste\n"
   ]
  },
  {
   "cell_type": "code",
   "execution_count": 64,
   "metadata": {},
   "outputs": [
    {
     "name": "stdout",
     "output_type": "stream",
     "text": [
      "O resultado de 3 elevado a 3 é: 27.0\n"
     ]
    }
   ],
   "source": [
    "import math\n",
    "\n",
    "base = int(input( 'Digite um número inteiro: ' ))\n",
    "expoente = int(input( 'Digite outro número inteiro: ' ))\n",
    "\n",
    "resultado = math.pow( base, expoente )\n",
    "\n",
    "print( f'O resultado de {base} elevado a {expoente} é: {resultado}')"
   ]
  },
  {
   "cell_type": "code",
   "execution_count": 61,
   "metadata": {},
   "outputs": [
    {
     "data": {
      "text/plain": [
       "155"
      ]
     },
     "execution_count": 61,
     "metadata": {},
     "output_type": "execute_result"
    }
   ],
   "source": [
    "import random\n",
    "quantidade = int(input( 'Insira o número de pessoas participando do sorteio: '))\n",
    "\n",
    "sorteado = choice(range(0, quantidade))\n",
    "\n",
    "sorteado\n"
   ]
  },
  {
   "cell_type": "code",
   "execution_count": 62,
   "metadata": {},
   "outputs": [
    {
     "name": "stdout",
     "output_type": "stream",
     "text": [
      "Olá olivia, o seu token de acesso é 8500! Seja bem-vindo(a)!\n"
     ]
    }
   ],
   "source": [
    "\"\"\"\n",
    "Você recebeu uma demanda para gerar números de token para acessar o aplicativo de uma empresa.\n",
    "O token precisa ser par e variar de 1000 até 9998. Escreva um código que solicita à pessoa usuária \n",
    "o seu nome e exibe uma mensagem junto a esse token gerado aleatoriamente.\n",
    "\n",
    "\"Olá, [nome], o seu token de acesso é [token]! Seja bem-vindo(a)!\"\n",
    "\"\"\"\n",
    "\n",
    "nome = input( 'Digite o seu nome: ')\n",
    " \n",
    "while token % 2 != 0:\n",
    "    # testar o código:\n",
    "    #print( '%i não é par ', token )\n",
    "    token = choice(range( 1000, 9998 ))\n",
    "\n",
    "\n",
    "print( f'Olá {nome}, o seu token de acesso é {token}! Seja bem-vindo(a)!')"
   ]
  },
  {
   "cell_type": "code",
   "execution_count": 67,
   "metadata": {},
   "outputs": [
    {
     "name": "stdout",
     "output_type": "stream",
     "text": [
      "O número 2 não possui raiz quadrada inteira\n",
      "O número 8 não possui raiz quadrada inteira\n",
      "O número 15 não possui raiz quadrada inteira\n",
      "O número 23 não possui raiz quadrada inteira\n",
      "O número 91 não possui raiz quadrada inteira\n",
      "O número 112 não possui raiz quadrada inteira\n",
      "O número 256 possui raiz quadrada inteira igual a 16\n"
     ]
    }
   ],
   "source": [
    "from math import sqrt\n",
    "numeros = [2, 8, 15, 23, 91, 112, 256]\n",
    "raizes = []\n",
    "\n",
    "for numero in numeros:\n",
    "  raizes.append(sqrt( numero ))\n",
    "\n",
    "for i in range(len( raizes )):\n",
    "  # testar se o número é inteiro \n",
    "  if raizes[i] // 1 == raizes[i]:\n",
    "    print( f'O número {numeros[i]} possui raiz quadrada inteira igual a {int( raizes[i] )}' )\n",
    "  else:\n",
    "    print( f'O número {numeros[i]} não possui raiz quadrada inteira')\n"
   ]
  }
 ],
 "metadata": {
  "kernelspec": {
   "display_name": "Python 3",
   "language": "python",
   "name": "python3"
  },
  "language_info": {
   "codemirror_mode": {
    "name": "ipython",
    "version": 3
   },
   "file_extension": ".py",
   "mimetype": "text/x-python",
   "name": "python",
   "nbconvert_exporter": "python",
   "pygments_lexer": "ipython3",
   "version": "3.12.2"
  }
 },
 "nbformat": 4,
 "nbformat_minor": 2
}
