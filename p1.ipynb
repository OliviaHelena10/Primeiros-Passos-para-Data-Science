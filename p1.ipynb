{
 "cells": [
  {
   "cell_type": "code",
   "execution_count": 6,
   "metadata": {},
   "outputs": [
    {
     "name": "stdout",
     "output_type": "stream",
     "text": [
      "Olívia Helena\n",
      "Olívia Helena\n",
      "O\n",
      "l\n",
      "í\n",
      "v\n",
      "i\n",
      "a\n",
      " \n",
      "H\n",
      "e\n",
      "l\n",
      "e\n",
      "n\n",
      "a\n"
     ]
    }
   ],
   "source": [
    "#define variáveis\n",
    "nome = 'Olívia'\n",
    "sobrenome = 'Helena'\n",
    "\n",
    "# imprime nome com sobrenome\n",
    "print( nome, sobrenome )\n",
    "nome += \" \"  + sobrenome\n",
    "print( nome )\n",
    "\n",
    "# imprime uma letra do nome em cada linha\n",
    "for letra in nome:\n",
    "    print(letra)"
   ]
  },
  {
   "cell_type": "code",
   "execution_count": 13,
   "metadata": {},
   "outputs": [
    {
     "name": "stdout",
     "output_type": "stream",
     "text": [
      "8 Outubro 2005\n"
     ]
    }
   ],
   "source": [
    "# define a data como uma impressão de dia, mes e ano\n",
    "def data( ):\n",
    "    print (dia, mes, ano)\n",
    "\n",
    "# variáveis\n",
    "dia = 8\n",
    "mes = 'Outubro'\n",
    "ano = 2005\n",
    "\n",
    "# chamando a função \n",
    "data()"
   ]
  },
  {
   "cell_type": "code",
   "execution_count": 16,
   "metadata": {},
   "outputs": [
    {
     "name": "stdout",
     "output_type": "stream",
     "text": [
      "Ano atual:  2024\n"
     ]
    }
   ],
   "source": [
    "anu = 2024\n",
    "print( f'Ano atual: ', anu )"
   ]
  },
  {
   "cell_type": "code",
   "execution_count": 20,
   "metadata": {},
   "outputs": [
    {
     "data": {
      "text/plain": [
       "'Ϫ'"
      ]
     },
     "execution_count": 20,
     "metadata": {},
     "output_type": "execute_result"
    }
   ],
   "source": [
    "chr(1002)"
   ]
  },
  {
   "cell_type": "code",
   "execution_count": 21,
   "metadata": {},
   "outputs": [
    {
     "name": "stdout",
     "output_type": "stream",
     "text": [
      "Nome do aluno é Fabricio Daniel, ele tem 15 anos e sua média é 8.450000.\n"
     ]
    }
   ],
   "source": [
    "nome_aluno = 'Fabricio Daniel'\n",
    "idade_aluno = 15\n",
    "media_aluno = 8.45\n",
    "\n",
    "print('Nome do aluno é %s, ele tem %d anos e sua média é %f.' %(nome_aluno, idade_aluno, media_aluno))\n"
   ]
  },
  {
   "cell_type": "code",
   "execution_count": 24,
   "metadata": {},
   "outputs": [
    {
     "name": "stdout",
     "output_type": "stream",
     "text": [
      "Valor de x: True\n"
     ]
    }
   ],
   "source": [
    "\"\"\"\n",
    "Uma observação: os operadores de formatação de strings com % \n",
    "não funcionam diretamente com valores booleanos. \n",
    "Uma maneira de lidar com isso é convertendo o valor booleano\n",
    "para uma string antes de usá-lo na formatação \n",
    "com a função str(). Por exemplo:\n",
    "\"\"\"\n",
    "\n",
    "# usando o método %tipo\n",
    "x = True\n",
    "print(\"Valor de x: %s\" % str(x))"
   ]
  },
  {
   "cell_type": "code",
   "execution_count": 25,
   "metadata": {},
   "outputs": [
    {
     "name": "stdout",
     "output_type": "stream",
     "text": [
      "Nome do aluno é Fabricio Daniel, ele tem 15 anos e sua média é 8.45.\n"
     ]
    }
   ],
   "source": [
    "# Usando o .format\n",
    "nome_aluno = 'Fabricio Daniel'\n",
    "idade_aluno = 15\n",
    "media_aluno = 8.45\n",
    "\n",
    "print('Nome do aluno é {}, ele tem {} anos e sua média é {}.' .format(nome_aluno, idade_aluno, media_aluno))"
   ]
  }
 ],
 "metadata": {
  "kernelspec": {
   "display_name": "Python 3",
   "language": "python",
   "name": "python3"
  },
  "language_info": {
   "codemirror_mode": {
    "name": "ipython",
    "version": 3
   },
   "file_extension": ".py",
   "mimetype": "text/x-python",
   "name": "python",
   "nbconvert_exporter": "python",
   "pygments_lexer": "ipython3",
   "version": "3.12.2"
  }
 },
 "nbformat": 4,
 "nbformat_minor": 2
}
