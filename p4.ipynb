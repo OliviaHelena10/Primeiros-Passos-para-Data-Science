{
 "cells": [
  {
   "cell_type": "markdown",
   "metadata": {},
   "source": [
    "# Estruturas de Dados"
   ]
  },
  {
   "cell_type": "code",
   "execution_count": 26,
   "metadata": {},
   "outputs": [
    {
     "data": {
      "text/plain": [
       "[8.0, 9.0, 10.0, 9.0, 7.0, 6.0, 3.4, 7.0, 7.0, 5.5, 6.6, 8.0, 6.0, 10.0, 9.5]"
      ]
     },
     "execution_count": 26,
     "metadata": {},
     "output_type": "execute_result"
    }
   ],
   "source": [
    "# Listad de Listas: \n",
    "\n",
    "notas_turma = ['João', 8.0, 9.0, 10.0, 'Maria', 9.0, 7.0, 6.0, 'José', 3.4, 7.0, 7.0, \\\n",
    "               'Cláudia', 5.5, 6.6, 8.0, 'Ana', 6.0, 10.0, 9.5]\n",
    "\n",
    "nomes = []\n",
    "notas_juntas = []\n",
    "\n",
    "for i in range(len( notas_turma )):\n",
    "    if i % 4 == 0: # esses serão os nomes por conta da posição de todos os nomes que, são todas multiplas de 4 (0, 4, 8, 12, 16)\n",
    "        nomes.append( notas_turma[i] )\n",
    "    else:\n",
    "        notas_juntas.append( notas_turma[i] )\n",
    "\n",
    "notas_juntas"
   ]
  },
  {
   "cell_type": "code",
   "execution_count": 39,
   "metadata": {},
   "outputs": [
    {
     "name": "stdout",
     "output_type": "stream",
     "text": [
      "[[8.0, 9.0, 10.0], [9.0, 7.0, 6.0], [3.4, 7.0, 7.0], [5.5, 6.6, 8.0], [6.0, 10.0, 9.5]]\n",
      "10.0\n"
     ]
    }
   ],
   "source": [
    "notas_aluno = []\n",
    "\n",
    "for i in range( 0, len(notas_juntas), 3 ):\n",
    "    notas_aluno.append([ notas_juntas[i], notas_juntas[i+1], notas_juntas[i+2] ])\n",
    "\n",
    "print( notas_aluno )\n",
    "print( notas_aluno[0][2] )"
   ]
  },
  {
   "cell_type": "code",
   "execution_count": 37,
   "metadata": {},
   "outputs": [
    {
     "data": {
      "text/plain": [
       "[[8.0, 9.0, 10.0],\n",
       " [9.0, 7.0, 6.0],\n",
       " [3.4, 7.0, 7.0],\n",
       " [5.5, 6.6, 8.0],\n",
       " [6.0, 10.0, 9.5],\n",
       " 'João',\n",
       " 'Maria',\n",
       " 'José',\n",
       " 'Cláudia',\n",
       " 'Ana']"
      ]
     },
     "execution_count": 37,
     "metadata": {},
     "output_type": "execute_result"
    }
   ],
   "source": [
    "for i in range( 0, len(notas_aluno), 1 ):\n",
    "    notas_aluno.append( nomes[i] )\n",
    "\n",
    "notas_aluno # ** rever essa parte pra prozuir a saida nome [notas], nome [notas]\n"
   ]
  },
  {
   "cell_type": "code",
   "execution_count": 42,
   "metadata": {},
   "outputs": [],
   "source": [
    "# listas de tuplas\n",
    "\n",
    "from random import randint\n",
    "\n",
    "estudantes = [\"João\", \"Maria\", \"José\", \"Cláudia\", \"Ana\"]\n",
    "\n",
    "def gera_codigo():\n",
    "  return str(randint(0,999))"
   ]
  },
  {
   "cell_type": "code",
   "execution_count": 47,
   "metadata": {},
   "outputs": [
    {
     "data": {
      "text/plain": [
       "[('João', 'J398'),\n",
       " ('Maria', 'M347'),\n",
       " ('José', 'J915'),\n",
       " ('Cláudia', 'C290'),\n",
       " ('Ana', 'A378')]"
      ]
     },
     "execution_count": 47,
     "metadata": {},
     "output_type": "execute_result"
    }
   ],
   "source": [
    "codigo_estudantes = []\n",
    "\n",
    "for i in range(len( estudantes )):\n",
    "    codigo_estudantes.append( (estudantes[i], estudantes[i][0] + gera_codigo()) )\n",
    "\n",
    "codigo_estudantes"
   ]
  },
  {
   "cell_type": "markdown",
   "metadata": {},
   "source": [
    "# List comprehension\n",
    "é uma forma simples e concisa de criar uma lista. Podemos aplicar condicionais para crirar diversos tipos que desejamos para a nossa strutura de dados\n",
    "\n",
    "### Formato padrão:\n",
    "[ expressão for item in lista]"
   ]
  },
  {
   "cell_type": "code",
   "execution_count": 1,
   "metadata": {},
   "outputs": [],
   "source": [
    "notas = [[8.0, 9.0, 10.0], [9.0, 7.0, 6.0], [3.4, 7.0, 7.0], [5.5, 6.6, 8.0], [6.0, 10.0, 9.5]]\n",
    "\n",
    "def media(lista: list=[0]) -> float:\n",
    "  ''' Função para calcular a média de notas passadas por uma lista\n",
    "\n",
    "  lista: list, default [0]\n",
    "    Lista com as notas para calcular a média\n",
    "  return = calculo: float\n",
    "    Média calculada\n",
    "  '''\n",
    "  \n",
    "  calculo = sum(lista) / len(lista)\n",
    "\n",
    "  return calculo\n"
   ]
  },
  {
   "cell_type": "code",
   "execution_count": 5,
   "metadata": {},
   "outputs": [
    {
     "data": {
      "text/plain": [
       "[9.0, 7.3, 5.8, 6.7, 8.5]"
      ]
     },
     "execution_count": 5,
     "metadata": {},
     "output_type": "execute_result"
    }
   ],
   "source": [
    "medias = [ round( media(nota), 1 ) for nota in notas ]\n",
    "medias"
   ]
  },
  {
   "cell_type": "code",
   "execution_count": 17,
   "metadata": {},
   "outputs": [],
   "source": [
    "medias = [9.0, 7.3, 5.8, 6.7, 8.5]\n",
    "nomes = [('João', 'J398'), ('Maria', 'M347'), ('José', 'J915'), ('Cláudia', 'C290'), ('Ana', 'A378')]"
   ]
  },
  {
   "cell_type": "code",
   "execution_count": 19,
   "metadata": {},
   "outputs": [
    {
     "data": {
      "text/plain": [
       "['João', 'Maria', 'José', 'Cláudia', 'Ana']"
      ]
     },
     "execution_count": 19,
     "metadata": {},
     "output_type": "execute_result"
    }
   ],
   "source": [
    "# Gerando a lista de nomes (extraindo da tupla)\n",
    "nomes = [ nome[0] for nome in nomes ]\n",
    "nomes"
   ]
  },
  {
   "cell_type": "markdown",
   "metadata": {},
   "source": [
    "### Dica:\n",
    "Para conseguirmos parear as média e nomes facilmente, podemos recorrer a mais uma built-in function ---> zip()\n",
    "\n",
    "Ela recebe um ou mais iteráveis (listas, strings, tuplas, dicionários, etc) e retorna-os com um iterator de tuplas onde cada elemento dos iteráveis são pareados"
   ]
  },
  {
   "cell_type": "code",
   "execution_count": 23,
   "metadata": {},
   "outputs": [
    {
     "data": {
      "text/plain": [
       "<zip at 0x1a86083ba00>"
      ]
     },
     "execution_count": 23,
     "metadata": {},
     "output_type": "execute_result"
    }
   ],
   "source": [
    "estudantes = zip( nomes, medias )\n",
    "estudantes # para ler um zip precisamos transformá-lo em uma lista"
   ]
  },
  {
   "cell_type": "code",
   "execution_count": 24,
   "metadata": {},
   "outputs": [
    {
     "data": {
      "text/plain": [
       "[('João', 9.0), ('Maria', 7.3), ('José', 5.8), ('Cláudia', 6.7), ('Ana', 8.5)]"
      ]
     },
     "execution_count": 24,
     "metadata": {},
     "output_type": "execute_result"
    }
   ],
   "source": [
    "estudantes = list(zip( nomes, medias ))\n",
    "estudantes"
   ]
  },
  {
   "cell_type": "code",
   "execution_count": 27,
   "metadata": {},
   "outputs": [
    {
     "data": {
      "text/plain": [
       "['João', 'Ana']"
      ]
     },
     "execution_count": 27,
     "metadata": {},
     "output_type": "execute_result"
    }
   ],
   "source": [
    "# Gerando lista de pessoas candidatas a bolsa\n",
    "candidatos = [ estudante[0] for estudante in estudantes if estudante[1] >= 8 ]\n",
    "candidatos"
   ]
  },
  {
   "cell_type": "code",
   "execution_count": 28,
   "metadata": {},
   "outputs": [
    {
     "data": {
      "text/plain": [
       "[(1, 'Norte'),\n",
       " (2, 'Nordeste'),\n",
       " (3, 'Sudeste'),\n",
       " (4, 'Centro-Oeste'),\n",
       " (5, 'Sul')]"
      ]
     },
     "execution_count": 28,
     "metadata": {},
     "output_type": "execute_result"
    }
   ],
   "source": [
    "id = [1, 2, 3, 4, 5]\n",
    "regiao = [\"Norte\", \"Nordeste\", \"Sudeste\", \"Centro-Oeste\", \"Sul\"]\n",
    "\n",
    "mapa = list(zip(id, regiao))\n",
    "mapa"
   ]
  },
  {
   "cell_type": "code",
   "execution_count": 29,
   "metadata": {},
   "outputs": [
    {
     "data": {
      "text/plain": [
       "[('1000', 'maçã'), ('1001', 'uva'), ('1002', 'banana'), ('1003', 'laranja')]"
      ]
     },
     "execution_count": 29,
     "metadata": {},
     "output_type": "execute_result"
    }
   ],
   "source": [
    "codigos = [\"1000\", \"1001\", \"1002\", \"1003\", \"1004\", \"1005\"]\n",
    "frutas = [\"maçã\", \"uva\", \"banana\", \"laranja\"]\n",
    "\n",
    "mercadorias = list(zip(codigos, frutas))\n",
    "mercadorias"
   ]
  },
  {
   "cell_type": "code",
   "execution_count": 30,
   "metadata": {},
   "outputs": [
    {
     "name": "stdout",
     "output_type": "stream",
     "text": [
      "IDs =  ['J392', 'M890', 'J681', 'C325', 'A49']\n",
      "Nomes =  ['João', 'Maria', 'José', 'Claúdia', 'Ana']\n"
     ]
    }
   ],
   "source": [
    "\"\"\"\n",
    "Para fazer o processo contrário, de transformar uma tupla iterável em listas, \n",
    "basta passar o operador asterisco (*) ao lado esquerdo do nome da tupla iterável que \n",
    "quer extrair os dados, repassando cada tupla para uma variável.\n",
    "\"\"\"\n",
    "tupla_iteravel = [('J392', 'João'), ('M890', 'Maria'), ('J681', 'José'), ('C325', 'Claúdia'), ('A49', 'Ana')]\n",
    "ids, nomes  = zip(*tupla_iteravel)\n",
    "\n",
    "ids = list(ids)\n",
    "nomes = list(nomes)\n",
    "\n",
    "print(\"IDs = \", ids)\n",
    "print(\"Nomes = \", nomes)"
   ]
  },
  {
   "cell_type": "markdown",
   "metadata": {},
   "source": [
    "Criar uma lista da situação dos estudantes em que caso sua média seja maior ou igual a 6 receberá o valor \"Aprovado\" e caso contrário receberá o valor \"Reprovado\".\n",
    "\n",
    "Gerar uma lista de listas com:\n",
    "\n",
    "Lista de tuplas com o nome dos estudantes e seus códigos.\n",
    "\n",
    "Lista de listas com as notas de cada estudante.\n",
    "\n",
    "Lista com as médias de cada estudante.\n",
    "\n",
    "Lista da situação dos estudantes de acordo com as médias.\n",
    "\n",
    "Os dados que utilizaremos são os mesmos que geramos nas situações anteriores (nomes, notas, medias).\n",
    "\n",
    "Vamos resolver esse desafio?"
   ]
  },
  {
   "cell_type": "code",
   "execution_count": 31,
   "metadata": {},
   "outputs": [],
   "source": [
    "nomes = [('João', 'J720'), ('Maria', 'M205'), ('José', 'J371'), ('Cláudia', 'C546'), ('Ana', 'A347')]\n",
    "notas = [[8.0, 9.0, 10.0], [9.0, 7.0, 6.0], [3.4, 7.0, 7.0], [5.5, 6.6, 8.0], [6.0, 10.0, 9.5]]\n",
    "medias = [9.0, 7.3, 5.8, 6.7, 8.5]"
   ]
  },
  {
   "cell_type": "code",
   "execution_count": 34,
   "metadata": {},
   "outputs": [
    {
     "data": {
      "text/plain": [
       "['Aprovado', 'Aprovado', 'Reprovado', 'Reprovado', 'Aprovado']"
      ]
     },
     "execution_count": 34,
     "metadata": {},
     "output_type": "execute_result"
    }
   ],
   "source": [
    "# situacao = [ resultado1 if condicao else resultado2 for item in lista ]\n",
    "situacao = [ 'Aprovado' if mediar >= 7 else 'Reprovado' for mediar in medias ]\n",
    "situacao"
   ]
  },
  {
   "cell_type": "code",
   "execution_count": 36,
   "metadata": {},
   "outputs": [
    {
     "data": {
      "text/plain": [
       "[[('João', 'J720'),\n",
       "  ('Maria', 'M205'),\n",
       "  ('José', 'J371'),\n",
       "  ('Cláudia', 'C546'),\n",
       "  ('Ana', 'A347')],\n",
       " [[8.0, 9.0, 10.0],\n",
       "  [9.0, 7.0, 6.0],\n",
       "  [3.4, 7.0, 7.0],\n",
       "  [5.5, 6.6, 8.0],\n",
       "  [6.0, 10.0, 9.5]],\n",
       " [9.0, 7.3, 5.8, 6.7, 8.5],\n",
       " ['Aprovado', 'Aprovado', 'Reprovado', 'Reprovado', 'Aprovado']]"
      ]
     },
     "execution_count": 36,
     "metadata": {},
     "output_type": "execute_result"
    }
   ],
   "source": [
    "# cadastro = [ expressao for item in lista de listas ]\n",
    "cadastro = [ x for x in [ nomes, notas, medias, situacao ]]\n",
    "cadastro"
   ]
  },
  {
   "cell_type": "code",
   "execution_count": 37,
   "metadata": {},
   "outputs": [
    {
     "data": {
      "text/plain": [
       "[[('João', 'J720'),\n",
       "  ('Maria', 'M205'),\n",
       "  ('José', 'J371'),\n",
       "  ('Cláudia', 'C546'),\n",
       "  ('Ana', 'A347')],\n",
       " [[8.0, 9.0, 10.0],\n",
       "  [9.0, 7.0, 6.0],\n",
       "  [3.4, 7.0, 7.0],\n",
       "  [5.5, 6.6, 8.0],\n",
       "  [6.0, 10.0, 9.5]],\n",
       " [9.0, 7.3, 5.8, 6.7, 8.5],\n",
       " ['Aprovado', 'Aprovado', 'Reprovado', 'Reprovado', 'Aprovado']]"
      ]
     },
     "execution_count": 37,
     "metadata": {},
     "output_type": "execute_result"
    }
   ],
   "source": [
    "### ou\n",
    "lista_completa = [ nomes, notas, medias, situacao ]\n",
    "lista_completa"
   ]
  },
  {
   "cell_type": "code",
   "execution_count": 38,
   "metadata": {},
   "outputs": [
    {
     "name": "stdout",
     "output_type": "stream",
     "text": [
      "[22.5, 24.7, 21.3, 22.9, 26.3]\n"
     ]
    }
   ],
   "source": [
    "alturas = [1.70, 1.80, 1.65, 1.75, 1.90]\n",
    "pesos = [65, 80, 58, 70, 95]\n",
    "\n",
    "imc = [round((peso / altura**2), 1) for altura, peso in zip(alturas, pesos)]\n",
    "print(imc)"
   ]
  },
  {
   "cell_type": "markdown",
   "metadata": {},
   "source": [
    "# Dict Comprehension\n",
    "\n",
    "É uma forma simples e concisa de modificar um dicionário. \n",
    "\n",
    "formato:\n",
    "{ chave: valor for item in lista }"
   ]
  },
  {
   "cell_type": "code",
   "execution_count": 39,
   "metadata": {},
   "outputs": [],
   "source": [
    "lista_completa = [[('João', 'J720'), ('Maria', 'M205'), ('José', 'J371'), ('Cláudia', 'C546'), ('Ana', 'A347')],\n",
    "                  [[8.0, 9.0, 10.0], [9.0, 7.0, 6.0], [3.4, 7.0, 7.0], [5.5, 6.6, 8.0], [6.0, 10.0, 9.5]],\n",
    "                  [9.0, 7.3, 5.8, 6.7, 8.5],\n",
    "                  ['Aprovado', 'Aprovado', 'Reprovado', 'Aprovado', 'Aprovado']]"
   ]
  },
  {
   "cell_type": "code",
   "execution_count": 43,
   "metadata": {},
   "outputs": [
    {
     "data": {
      "text/plain": [
       "{'Notas': [[8.0, 9.0, 10.0],\n",
       "  [9.0, 7.0, 6.0],\n",
       "  [3.4, 7.0, 7.0],\n",
       "  [5.5, 6.6, 8.0],\n",
       "  [6.0, 10.0, 9.5]],\n",
       " 'Média Final': [9.0, 7.3, 5.8, 6.7, 8.5],\n",
       " 'Situação': ['Aprovado', 'Aprovado', 'Reprovado', 'Aprovado', 'Aprovado']}"
      ]
     },
     "execution_count": 43,
     "metadata": {},
     "output_type": "execute_result"
    }
   ],
   "source": [
    "# colunas com os tipos de dados (exceto nome)\n",
    "coluna = [ \"Notas\", \"Média Final\", \"Situação\" ]\n",
    "\n",
    "cadastro = { coluna[i]: lista_completa[i+1] for i in range(len( coluna )) }\n",
    "cadastro"
   ]
  },
  {
   "cell_type": "code",
   "execution_count": 54,
   "metadata": {},
   "outputs": [
    {
     "data": {
      "text/plain": [
       "{'Notas': [[8.0, 9.0, 10.0],\n",
       "  [9.0, 7.0, 6.0],\n",
       "  [3.4, 7.0, 7.0],\n",
       "  [5.5, 6.6, 8.0],\n",
       "  [6.0, 10.0, 9.5]],\n",
       " 'Média Final': [9.0, 7.3, 5.8, 6.7, 8.5],\n",
       " 'Situação': ['Aprovado', 'Aprovado', 'Reprovado', 'Aprovado', 'Aprovado'],\n",
       " 'Estudante': ['João', 'Maria', 'José', 'Cláudia', 'Ana']}"
      ]
     },
     "execution_count": 54,
     "metadata": {},
     "output_type": "execute_result"
    }
   ],
   "source": [
    "# agora vamos colocar o nome dos estudantes apenas\n",
    "cadastro[\"Estudante\"] = [ lista_completa[0][i][0] for i in range(len( lista_completa[0] )) ]\n",
    "cadastro"
   ]
  },
  {
   "cell_type": "code",
   "execution_count": 55,
   "metadata": {},
   "outputs": [
    {
     "data": {
      "text/plain": [
       "{'Anthony Silveira': 9.1, 'Diana Carvalho': 10.0}"
      ]
     },
     "execution_count": 55,
     "metadata": {},
     "output_type": "execute_result"
    }
   ],
   "source": [
    "nomes_estudantes = [ \"Enrico Monteiro\", \"Luna Pereira\", \"Anthony Silveira\", \"Letícia Fernandes\", \n",
    "                    \"João Vitor Nascimento\", \"Maysa Caldeira\", \"Diana Carvalho\", \"Mariane da Rosa\",\n",
    "                    \"Camila Fernandes\", \"Levi Alves\", \"Nicolas da Rocha\", \"Amanda Novaes\", \n",
    "                    \"Laís Moraes\", \"Letícia Oliveira\", \"Lucca Novaes\", \"Lara Cunha\", \n",
    "                    \"Beatriz Martins\", \"João Vitor Azevedo\", \"Stephany Rosa\", \"Gustavo Henrique Lima\" ]\n",
    "\n",
    "medias_estudantes = [5.4, 4.1, 9.1, 5.3, 6.9, 3.1, 10.0, 5.0, 8.2, 5.5,\n",
    "                    8.1, 7.4, 5.0, 3.7, 8.1, 6.2, 6.1, 5.6, 6.7, 8.2]\n",
    "\n",
    "bolsistas = {nome: media \n",
    "             for nome, media in zip(nomes_estudantes, medias_estudantes) \n",
    "             if media >= 9.0}\n",
    "bolsistas"
   ]
  },
  {
   "cell_type": "markdown",
   "metadata": {},
   "source": [
    "## Exercícios"
   ]
  },
  {
   "cell_type": "code",
   "execution_count": 60,
   "metadata": {},
   "outputs": [
    {
     "name": "stdout",
     "output_type": "stream",
     "text": [
      "24\n",
      "10\n",
      "16\n"
     ]
    }
   ],
   "source": [
    "# 1. Crie um código para imprimir a soma dos elementos de cada uma das listas contidas na seguinte lista:\n",
    "lista_de_listas = [[4,6,5,9], [1,0,7,2], [3,4,1,8]]\n",
    "\n",
    "for lista in lista_de_listas:\n",
    "    print(sum( lista ))\n"
   ]
  },
  {
   "cell_type": "code",
   "execution_count": 68,
   "metadata": {},
   "outputs": [
    {
     "data": {
      "text/plain": [
       "[81, 67, 83]"
      ]
     },
     "execution_count": 68,
     "metadata": {},
     "output_type": "execute_result"
    }
   ],
   "source": [
    "# 2. Crie um código para gerar uma lista que armazena o terceiro elemento de cada tupla contida na \n",
    "# seguinte lista de tuplas:\n",
    "lista_de_tuplas = [('Pedro', 1.74, 81), ('Júlia', 1.65, 67), ('Otávio', 1.81, 83)]\n",
    "\n",
    "idade = [ lista_de_tuplas[i][2] for i in range(len( lista_de_tuplas )) ]\n",
    "idade"
   ]
  },
  {
   "cell_type": "code",
   "execution_count": 69,
   "metadata": {},
   "outputs": [
    {
     "data": {
      "text/plain": [
       "['Pedro', 'Júlia', 'Otávio']"
      ]
     },
     "execution_count": 69,
     "metadata": {},
     "output_type": "execute_result"
    }
   ],
   "source": [
    "nomes = [ lista_de_tuplas[i][0] for i in range(len( lista_de_tuplas )) ]\n",
    "nomes"
   ]
  },
  {
   "cell_type": "code",
   "execution_count": 71,
   "metadata": {},
   "outputs": [
    {
     "data": {
      "text/plain": [
       "[1.74, 1.65, 1.81]"
      ]
     },
     "execution_count": 71,
     "metadata": {},
     "output_type": "execute_result"
    }
   ],
   "source": [
    "altura = [ lista_de_tuplas[i][1] for i in range(len( lista_de_tuplas )) ]\n",
    "altura"
   ]
  },
  {
   "cell_type": "code",
   "execution_count": 74,
   "metadata": {},
   "outputs": [
    {
     "name": "stdout",
     "output_type": "stream",
     "text": [
      "[(0, 'Pedro'), (1, 'Júlia'), (2, 'Otávio'), (3, 'Eduardo')]\n"
     ]
    }
   ],
   "source": [
    "#3. A partir da lista: lista = ['Pedro', 'Júlia', 'Otávio', 'Eduardo'], crie um código para gerar uma \n",
    "# lista de tuplas em que cada tupla tenha o primeiro elemento como a posição do nome na lista original \n",
    "# e o segundo elemento sendo o próprio nome.\n",
    "\n",
    "lista = ['Pedro', 'Júlia', 'Otávio', 'Eduardo']\n",
    "\n",
    "lista_de_tuplas = []\n",
    "for i in range(len(lista)):\n",
    "    lista_de_tuplas.append((i, lista[i]))\n",
    "print(lista_de_tuplas)"
   ]
  },
  {
   "cell_type": "code",
   "execution_count": 89,
   "metadata": {},
   "outputs": [
    {
     "name": "stdout",
     "output_type": "stream",
     "text": [
      "[1700, 1400, 1900]\n"
     ]
    }
   ],
   "source": [
    "#4. Crie uma lista usando o list comprehension que armazena somente o valor numérico de cada tupla\n",
    "#caso o primeiro elemento seja 'Apartamento', a partir da seguinte lista de tuplas:\n",
    "\n",
    "aluguel = [('Apartamento', 1700), ('Apartamento', 1400), ('Casa', 2150), ('Apartamento', 1900), ('Casa', 1100)]\n",
    "\n",
    "valores = [ tupla[1] for tupla in aluguel if tupla[0] == 'Apartamento' ]\n",
    "print( valores )"
   ]
  },
  {
   "cell_type": "code",
   "execution_count": 93,
   "metadata": {},
   "outputs": [
    {
     "data": {
      "text/plain": [
       "{'Jan': 860,\n",
       " 'Fev': 490,\n",
       " 'Mar': 1010,\n",
       " 'Abr': 780,\n",
       " 'Mai': 900,\n",
       " 'Jun': 630,\n",
       " 'Jul': 590,\n",
       " 'Ago': 770,\n",
       " 'Set': 620,\n",
       " 'Out': 560,\n",
       " 'Nov': 840,\n",
       " 'Dez': 360}"
      ]
     },
     "execution_count": 93,
     "metadata": {},
     "output_type": "execute_result"
    }
   ],
   "source": [
    "#5. Crie um dicionário usando o dict comprehension em que as chaves estão na lista \n",
    "# meses = ['Jan', 'Fev', 'Mar', 'Abr', 'Mai', 'Jun', 'Jul', 'Ago', 'Set', 'Out', 'Nov', 'Dez'] \n",
    "# e os valores estão em despesa = [860, 490, 1010, 780, 900, 630, 590, 770, 620, 560, 840, 360].\n",
    "\n",
    "meses = ['Jan', 'Fev', 'Mar', 'Abr', 'Mai', 'Jun', 'Jul', 'Ago', 'Set', 'Out', 'Nov', 'Dez']\n",
    "despesas = [860, 490, 1010, 780, 900, 630, 590, 770, 620, 560, 840, 360]\n",
    "\n",
    "column = { mes : despesa for mes, despesa in zip( meses, despesas ) }\n",
    "column"
   ]
  },
  {
   "cell_type": "code",
   "execution_count": 105,
   "metadata": {},
   "outputs": [
    {
     "data": {
      "text/plain": [
       "{('2022', 7688), ('2022', 8190), ('2022', 8883), ('2022', 9544)}"
      ]
     },
     "execution_count": 105,
     "metadata": {},
     "output_type": "execute_result"
    }
   ],
   "source": [
    "#6. Uma loja possui um banco de dados com a informação de venda de cada representante e de cada ano\n",
    "# e precisa filtrar somente os dados do ano 2022 com venda maior do que 6000.\n",
    "# A loja forneceu uma amostra contendo apenas as colunas com os anos e os valores de venda para que\n",
    "# você ajude a realizar a filtragem dos dados a partir de um código:\n",
    "\n",
    "vendas = [('2023', 4093), ('2021', 4320), ('2021', 5959), ('2022', 8883), ('2023', 9859), \n",
    "          ('2022', 5141), ('2022', 7688), ('2022', 9544), ('2023', 4794), ('2021', 7178), \n",
    "          ('2022', 3030), ('2021', 7471), ('2022', 4226), ('2022', 8190), ('2021', 9680), \n",
    "          ('2022', 5616)]\n",
    "\n",
    "filtro = { vendas[i] for i in range(len( vendas )) if vendas[i][1] > 6000 and vendas[i][0] == '2022' }\n",
    "filtro"
   ]
  },
  {
   "cell_type": "code",
   "execution_count": 114,
   "metadata": {},
   "outputs": [
    {
     "name": "stdout",
     "output_type": "stream",
     "text": [
      "[('Glicose superior a 125', 129), ('Glicose entre 70 a 99', 82), ('Glicose igual ou inferior a 70', 60), ('Glicose entre 70 a 99', 97), ('Glicose entre 100 e 125', 101), ('Glicose igual ou inferior a 70', 65), ('Glicose igual ou inferior a 70', 62), ('Glicose superior a 125', 167), ('Glicose entre 70 a 99', 87), ('Glicose igual ou inferior a 70', 53), ('Glicose igual ou inferior a 70', 58), ('Glicose entre 70 a 99', 92), ('Glicose igual ou inferior a 70', 66), ('Glicose entre 100 e 125', 120), ('Glicose entre 100 e 125', 109), ('Glicose igual ou inferior a 70', 62), ('Glicose entre 70 a 99', 86), ('Glicose entre 70 a 99', 96), ('Glicose entre 100 e 125', 103), ('Glicose entre 70 a 99', 88), ('Glicose superior a 125', 155), ('Glicose igual ou inferior a 70', 52), ('Glicose entre 70 a 99', 89), ('Glicose entre 70 a 99', 73)]\n"
     ]
    }
   ],
   "source": [
    "\"\"\"\n",
    "7. Uma clínica analisa dados de pacientes e armazena o valor numérico da glicose em um banco de dados e \n",
    "   gostaria de rotular os dados da seguinte maneira:\n",
    "\n",
    "    Glicose igual ou inferior a 70: 'Hipoglicemia'\n",
    "    Glicose entre 70 a 99: 'Normal'\n",
    "    Glicose entre 100 e 125: 'Alterada'\n",
    "    Glicose superior a 125: 'Diabetes'\n",
    "    \n",
    "A clínica disponibilizou parte dos valores e sua tarefa é criar uma lista de tuplas usando list comprehension\n",
    "contendo o rótulo e o valor da glicemia em cada tupla.\n",
    "\"\"\"\n",
    "\n",
    "glicemia = [129, 82, 60, 97, 101, 65, 62, 167, 87, 53, 58, 92, 66, 120, 109, 62, 86, 96, 103, 88, 155, 52, 89, 73]\n",
    "coluna = [ \"Glicose igual ou inferior a 70\", \"Glicose entre 70 a 99\", \n",
    "           \"Glicose entre 100 e 125\", \"Glicose superior a 125\" ]\n",
    "\n",
    "rotulos = [( 'Glicose igual ou inferior a 70', glicose) if glicose <= 70 else ('Glicose entre 70 a 99', glicose) \\\n",
    "             if glicose < 100 else ('Glicose entre 100 e 125', glicose) if glicose < 125 else \\\n",
    "             ('Glicose superior a 125', glicose) for glicose in glicemia]\n",
    "print(rotulos)\n"
   ]
  },
  {
   "cell_type": "code",
   "execution_count": 57,
   "metadata": {},
   "outputs": [
    {
     "data": {
      "text/plain": [
       "[('id', 'quantidade', 'preco_unit', 'valor total'),\n",
       " [(0, 15, 93.0, 1395.0),\n",
       "  (1, 12, 102.0, 1224.0),\n",
       "  (2, 1, 18.0, 18.0),\n",
       "  (3, 15, 41.0, 615.0),\n",
       "  (4, 2, 122.0, 244.0),\n",
       "  (5, 11, 14.0, 154.0),\n",
       "  (6, 2, 71.0, 142.0),\n",
       "  (7, 12, 48.0, 576.0),\n",
       "  (8, 2, 14.0, 28.0),\n",
       "  (9, 4, 144.0, 576.0)]]"
      ]
     },
     "execution_count": 57,
     "metadata": {},
     "output_type": "execute_result"
    }
   ],
   "source": [
    "#8. Um e-commerce possui as informações de id de venda, quantidade vendida e preço do produto divididos \n",
    "# seguintes listas:\n",
    "# O e-commerce precisa estruturar esses dados em uma tabela contendo o valor total da venda, \n",
    "# que é obtida multiplicando a quantidade pelo preço unitário. Além disso, a tabela precisa conter um \n",
    "# cabeçalho indicando as colunas: 'id', 'quantidade', 'preco' e 'total'.\n",
    "# Crie uma lista de tuplas em que cada tupla tenha id, quantidade, preço e valor total, na qual \n",
    "# a primeira tupla é o cabeçalho da tabela.\n",
    "\n",
    "id = [0, 1, 2, 3, 4, 5, 6, 7, 8, 9]\n",
    "quantidade = [15, 12, 1, 15, 2, 11, 2, 12, 2, 4]\n",
    "preco = [93.0, 102.0, 18.0, 41.0, 122.0, 14.0, 71.0, 48.0, 14.0, 144.0]\n",
    "valor_total = [ ( preco[i] * quantidade[i] ) for i in range(len(quantidade)) ]\n",
    "\n",
    "colunas = [ \"id\", \"quantidade\", \"preco_unit\", \"valor total\" ]#???????\n",
    "\n",
    "tabela = [tuple(colunas[i] for i in range(len( colunas ))) , [( id,quantidade, preco, valor_total) for id, quantidade, preco, valor_total in zip( id, quantidade, preco, valor_total) ]]\n",
    "tabela\n",
    "#= { mes : despesa for mes, despesa in zip( meses, despesas ) } \n"
   ]
  },
  {
   "cell_type": "code",
   "execution_count": 111,
   "metadata": {},
   "outputs": [
    {
     "data": {
      "text/plain": [
       "{'RJ': 2, 'MG': 7, 'ES': 6, 'SP': 8}"
      ]
     },
     "execution_count": 111,
     "metadata": {},
     "output_type": "execute_result"
    }
   ],
   "source": [
    "#9. Uma empresa possui filiais espalhadas nos Estados da região Sudeste do Brasil. Em uma das tabelas de\n",
    "# cadastro das filiais há uma coluna contendo a informação de qual é o Estado a que pertence\n",
    "#A empresa sempre está abrindo novas filiais, de modo que a tabela está constantemente recebendo\n",
    "# novos registros e o gestor gostaria de possuir a informação atualizada da quantidade de filiais em cada Estado.\n",
    "#A partir da coluna com a informação dos Estados, crie um dicionário usando dict comprehension com a chave \n",
    "# sendo o nome de um Estado e o valor sendo a contagem de vezes em que o Estado aparece na lista\n",
    "\n",
    "estados = ['SP', 'ES', 'MG', 'MG', 'SP', 'MG', 'ES', 'ES', 'ES', 'SP', 'SP', 'MG', 'ES', 'SP', 'RJ', 'MG', 'RJ', 'SP', 'MG', 'SP', 'ES', 'SP', 'MG']\n",
    "qtd_filiais = [ estados.count( 'RJ' ), estados.count( 'MG' ), estados.count( 'ES' ), estados.count( 'SP' ) ] \n",
    "new_estados = list(set( estados ))\n",
    "# new_estados\n",
    "# 8, 6, 7, 2\n",
    "dicionario = { new_estados[i]: qtd_filiais[i] for i in range(len( new_estados )) }\n",
    "dicionario \n",
    "\n",
    "\n",
    "# RESOLUÇÃO DO INSTRUTOR:\n",
    "\n",
    "# Armazenando os estados sem repetição de valor\n",
    "#estados_unicos = list(set(estados))\n",
    "\n",
    "# Criando uma lista de listas com valores repetidos de cada estado\n",
    "#lista_de_listas = []\n",
    "#for estado in estados_unicos:\n",
    "#    lista = [uf for uf in estados if uf == estado]\n",
    "#    lista_de_listas.append(lista)\n",
    "#print(lista_de_listas)\n",
    "\n",
    "# Criando um dicionário em que a chave é o nome de cada estado único e o valor é a contagem de elementos\n",
    "#contagem_valores = {estados_unicos[i]: len(lista_de_listas[i]) for i in range(len(estados_unicos))}\n",
    "#print(contagem_valores)\n"
   ]
  }
 ],
 "metadata": {
  "kernelspec": {
   "display_name": "Python 3",
   "language": "python",
   "name": "python3"
  },
  "language_info": {
   "codemirror_mode": {
    "name": "ipython",
    "version": 3
   },
   "file_extension": ".py",
   "mimetype": "text/x-python",
   "name": "python",
   "nbconvert_exporter": "python",
   "pygments_lexer": "ipython3",
   "version": "3.12.2"
  }
 },
 "nbformat": 4,
 "nbformat_minor": 2
}
